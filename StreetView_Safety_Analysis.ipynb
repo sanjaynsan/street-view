{
 "cells": [
  {
   "cell_type": "markdown",
   "id": "ace14e22",
   "metadata": {},
   "source": [
    "# 🛰️ StreetView Safety Analyzer"
   ]
  },
  {
   "cell_type": "code",
   "execution_count": null,
   "id": "4f153a1e",
   "metadata": {},
   "outputs": [],
   "source": [
    "# Install dependencies (uncomment if needed)\n",
    "# !pip install torch transformers pillow pandas google-streetview geopandas shapely folium ipyleaflet\n",
    "\n",
    "import os\n",
    "import glob\n",
    "import pandas as pd\n",
    "import geopandas as gpd\n",
    "from shapely.geometry import shape, Point\n",
    "from datetime import datetime\n",
    "from transformers import AutoProcessor, AutoModelForVision2Seq\n",
    "from PIL import Image\n",
    "import torch\n",
    "from ipyleaflet import Map, DrawControl\n",
    "from IPython.display import display\n"
   ]
  },
  {
   "cell_type": "code",
   "execution_count": null,
   "id": "eb498790",
   "metadata": {},
   "outputs": [],
   "source": [
    "draw_output = {}\n",
    "m = Map(center=(-6.2, 106.8), zoom=13)\n",
    "\n",
    "def handle_draw(_, action, geo_json):\n",
    "    global draw_output\n",
    "    draw_output = geo_json\n",
    "    print(\"ROI selected and saved.\")\n",
    "\n",
    "draw_control = DrawControl(polygon={\"shapeOptions\": {\"color\": \"#f06eaa\"}})\n",
    "draw_control.on_draw(handle_draw)\n",
    "m.add_control(draw_control)\n",
    "display(m)\n"
   ]
  },
  {
   "cell_type": "code",
   "execution_count": null,
   "id": "c03cc39f",
   "metadata": {},
   "outputs": [],
   "source": [
    "from random import uniform\n",
    "\n",
    "def generate_random_points(geojson, n=10):\n",
    "    polygon = shape(geojson['geometry'])\n",
    "    points = []\n",
    "    while len(points) < n:\n",
    "        lon = uniform(*polygon.bounds[::2])\n",
    "        lat = uniform(*polygon.bounds[1::2])\n",
    "        pt = Point(lon, lat)\n",
    "        if polygon.contains(pt):\n",
    "            points.append(pt)\n",
    "    return points\n",
    "\n",
    "gdf = gpd.GeoDataFrame(geometry=generate_random_points(draw_output, 10))\n",
    "gdf[\"lat\"] = gdf.geometry.y\n",
    "gdf[\"lon\"] = gdf.geometry.x\n",
    "gdf\n"
   ]
  },
  {
   "cell_type": "code",
   "execution_count": null,
   "id": "f55cb361",
   "metadata": {},
   "outputs": [],
   "source": [
    "image_folder = f\"images/session_{datetime.now().strftime('%Y%m%d_%H%M%S')}\"\n",
    "os.makedirs(image_folder, exist_ok=True)\n",
    "gdf.to_csv(f\"{image_folder}/points.csv\", index=False)\n"
   ]
  },
  {
   "cell_type": "code",
   "execution_count": null,
   "id": "d052e6c3",
   "metadata": {},
   "outputs": [],
   "source": [
    "device = \"cuda\" if torch.cuda.is_available() else \"cpu\"\n",
    "processor = AutoProcessor.from_pretrained(\"llava-hf/llava-1.5-7b-hf\")\n",
    "model = AutoModelForVision2Seq.from_pretrained(\n",
    "    \"llava-hf/llava-1.5-7b-hf\", device_map=\"auto\", torch_dtype=torch.float16\n",
    ")\n",
    "\n",
    "def describe_with_llava(image_path):\n",
    "    image = Image.open(image_path).convert(\"RGB\")\n",
    "    inputs = processor(images=image, text=\"Describe the street safety features in this image.\", return_tensors=\"pt\").to(device)\n",
    "    generated = model.generate(**inputs, max_new_tokens=100)\n",
    "    return processor.batch_decode(generated, skip_special_tokens=True)[0]\n"
   ]
  },
  {
   "cell_type": "code",
   "execution_count": null,
   "id": "ca01c607",
   "metadata": {},
   "outputs": [],
   "source": [
    "latest_dir = sorted(glob.glob(\"images/session_*\"))[-1]\n",
    "image_paths = sorted(glob.glob(f\"{latest_dir}/*.jpg\"))\n",
    "\n",
    "results = []\n",
    "for path in image_paths:\n",
    "    caption = describe_with_llava(path)\n",
    "    results.append({\"image\": os.path.basename(path), \"caption\": caption})\n",
    "\n",
    "df = pd.DataFrame(results)\n",
    "df.to_csv(f\"{latest_dir}/captions.csv\", index=False)\n",
    "df.head()\n"
   ]
  },
  {
   "cell_type": "code",
   "execution_count": null,
   "id": "17afb311",
   "metadata": {},
   "outputs": [],
   "source": [
    "def extract_safety_flags(text):\n",
    "    return {\n",
    "        \"crosswalk\": \"crosswalk\" in text.lower(),\n",
    "        \"light\": \"light\" in text.lower() or \"signal\" in text.lower(),\n",
    "        \"pothole\": \"pothole\" in text.lower() or \"crack\" in text.lower(),\n",
    "        \"daylight\": \"daylight\" in text.lower() or \"sun\" in text.lower()\n",
    "    }\n",
    "\n",
    "flags_df = df[\"caption\"].apply(extract_safety_flags).apply(pd.Series)\n",
    "final_df = pd.concat([df, flags_df], axis=1)\n",
    "final_df.to_csv(f\"{latest_dir}/safety_flags.csv\", index=False)\n",
    "final_df\n"
   ]
  }
 ],
 "metadata": {},
 "nbformat": 4,
 "nbformat_minor": 5
}